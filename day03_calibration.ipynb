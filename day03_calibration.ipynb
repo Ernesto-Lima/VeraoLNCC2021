{
 "cells": [
  {
   "cell_type": "markdown",
   "metadata": {},
   "source": [
    "# Day 3 - Model Calibration"
   ]
  },
  {
   "cell_type": "code",
   "execution_count": null,
   "metadata": {},
   "outputs": [],
   "source": [
    "# Import libraries\n",
    "import numpy as np\n",
    "import matplotlib.pyplot as plt\n",
    "import emcee\n",
    "import corner\n",
    "from scipy.integrate import odeint\n",
    "from scipy.optimize import minimize\n",
    "from IPython.display import display, Math\n",
    "from scipy.optimize import Bounds"
   ]
  },
  {
   "cell_type": "markdown",
   "metadata": {},
   "source": [
    "## Defining the model\n",
    "Let N be the number of tumor cells and assume that this number can increase with a growth rate of $r$ 1/hour until it reaches the environmental carrying capacity of $K$ cells. With these assumptions, the mathematical model is:\n",
    "\\begin{equation}\n",
    "\\frac{dN}{dt}=rN\\left(1-\\frac{N}{K}\\right),\n",
    "\\end{equation}\n",
    "\n",
    "- $\\boldsymbol{\\theta}$: vector of model parameters, $\\boldsymbol{\\theta}=(r,K)$;\n",
    "- $r$: tumor growth rate;\n",
    "- $K$: environmental carrying capacity;\n",
    "- $\\boldsymbol{Y}(\\boldsymbol{\\theta})$: model prediction;"
   ]
  },
  {
   "cell_type": "code",
   "execution_count": null,
   "metadata": {},
   "outputs": [],
   "source": [
    "# Let y be the vector of outputs, t the time, and theta the vector of parameters\n",
    "def control_tumor(y, t, theta):\n",
    "    return theta[0] * y[0] * (1.0 - y[0] / theta[1])"
   ]
  },
  {
   "cell_type": "markdown",
   "metadata": {},
   "source": [
    "## Generating the data\n",
    "We will generate the in silico data using the true model and adding a random perturbation"
   ]
  },
  {
   "cell_type": "code",
   "execution_count": null,
   "metadata": {},
   "outputs": [],
   "source": [
    "# Define time interval, parameter value, and initial condition\n",
    "times = np.arange(0,50,1)\n",
    "true_r = 0.25\n",
    "true_K = 60\n",
    "true_ic = 1\n",
    "# Solving the ODE model\n",
    "y = odeint(control_tumor, t=times, y0=true_ic, args=tuple([[true_r,true_K]]))"
   ]
  },
  {
   "cell_type": "code",
   "execution_count": null,
   "metadata": {},
   "outputs": [],
   "source": [
    "# Plotting the true data\n",
    "fig, ax = plt.subplots(dpi=120)\n",
    "plt.scatter(times, y, label='True data', color='black',linewidth=2.0)\n",
    "plt.legend()\n",
    "plt.xlabel('Time (hours)')\n",
    "plt.ylabel('Cell number');\n",
    "#plt.savefig(\"just_data.pdf\")\n",
    "plt.show()"
   ]
  },
  {
   "cell_type": "code",
   "execution_count": null,
   "metadata": {},
   "outputs": [],
   "source": [
    "#Adding perturbation\n",
    "true_sigma = 3.6\n",
    "np.random.seed(2021) # For reproducibility\n",
    "yobs = np.random.normal(y,true_sigma)\n",
    "yobs[yobs < 0] = 0"
   ]
  },
  {
   "cell_type": "code",
   "execution_count": null,
   "metadata": {
    "scrolled": true
   },
   "outputs": [],
   "source": [
    "# Plotting the true and observed data\n",
    "fig, ax = plt.subplots(dpi=120)\n",
    "plt.plot(times, y, label='True data', color='black',linewidth=2.0)\n",
    "plt.scatter(times, yobs, label='Measured data', color='red')\n",
    "plt.legend()\n",
    "plt.xlabel('Time (hours)')\n",
    "plt.ylabel('Cell number');\n",
    "#plt.savefig(\"just_data.pdf\")\n",
    "plt.show()"
   ]
  },
  {
   "cell_type": "markdown",
   "metadata": {},
   "source": [
    "## Maximum likelihood estimation\n",
    "\n",
    "Find $\\hat{\\boldsymbol{\\theta}}\\in\\Theta$, where $\\Theta$ is the parameter space, that maximize the likelihood.\n",
    "\n",
    "It is customary to work with the more manageable log-likelihood function.\n",
    "\n",
    "\\begin{align*}\n",
    "\\hat{\\boldsymbol{\\theta}}&=\\underset{\\boldsymbol{\\theta}\\in\\Theta}{\\text{argmax}}[\\log\\pi(\\boldsymbol{D}|\\boldsymbol{\\theta})];\\\\\n",
    "&=\\underset{\\boldsymbol{\\theta}\\in\\Theta}{\\text{argmax}}\\left[-\\frac{1}{2}\\sum_{i=1}^{N_t}\\left(\\log(2\\pi\\sigma^2)+\\frac{(D_{i}-Y_i(\\boldsymbol{\\theta}))^2}{\\sigma^2}\\right)\\right].\n",
    "\\end{align*}"
   ]
  },
  {
   "cell_type": "code",
   "execution_count": null,
   "metadata": {},
   "outputs": [],
   "source": [
    "def log_likelihood(theta, times, y):\n",
    "    cal_r, cal_K, cal_sigma = theta\n",
    "    model = odeint(control_tumor, t=times, y0=y[0], args=tuple([[cal_r,cal_K]]))\n",
    "    variance = cal_sigma*cal_sigma\n",
    "    return -0.5 * np.sum(np.log(2*np.pi*variance) + (y - model) ** 2 / variance)"
   ]
  },
  {
   "cell_type": "code",
   "execution_count": null,
   "metadata": {},
   "outputs": [],
   "source": [
    "nll = lambda *args: -log_likelihood(*args)\n",
    "\n",
    "initial = [0.4, 50.0, 0.3]\n",
    "\n",
    "bounds = Bounds([0.0, 10.0, 0.1], [1.0, 120.0, 30.0])\n",
    "\n",
    "soln = minimize(nll, initial, args=(times, yobs), bounds=bounds)"
   ]
  },
  {
   "cell_type": "code",
   "execution_count": null,
   "metadata": {},
   "outputs": [],
   "source": [
    "soln"
   ]
  },
  {
   "cell_type": "code",
   "execution_count": null,
   "metadata": {},
   "outputs": [],
   "source": [
    "ml_r, ml_K, ml_sigma = soln.x\n",
    "\n",
    "print(\"Maximum likelihood estimates:\")\n",
    "print(\"Growth rate = %f\" % ml_r)\n",
    "print(\"Carrying capacity = %f\" % ml_K)\n",
    "print(\"Standard deviation = %f\" % ml_sigma)\n",
    "\n",
    "error_r=100*abs(ml_r-true_r)/true_r\n",
    "error_K=100*abs(ml_K-true_K)/true_K\n",
    "error_sigma=100*abs(ml_sigma-true_sigma)/true_sigma\n",
    "\n",
    "print(\"Growth rate %% error = %f\" % error_r)\n",
    "print(\"Carrying capacity %% error = %f\" % error_K)\n",
    "print(\"Standard deviation %% error = %f\" % error_sigma)"
   ]
  },
  {
   "cell_type": "code",
   "execution_count": null,
   "metadata": {},
   "outputs": [],
   "source": [
    "y_ml = odeint(control_tumor, t=times, y0=yobs[0], args=tuple([[ml_r,ml_K]]))"
   ]
  },
  {
   "cell_type": "code",
   "execution_count": null,
   "metadata": {},
   "outputs": [],
   "source": [
    "fig, ax = plt.subplots(dpi=120)\n",
    "plt.plot(times, y_ml, label='Calibrated model', linestyle='dashed', color='blue',linewidth=2.0)\n",
    "plt.plot(times, y, label='True data', color='black', alpha=0.75,linewidth=2.0)\n",
    "plt.scatter(times, yobs, label='Measured data', color='red')\n",
    "plt.legend()\n",
    "plt.xlabel('Time (hours)')\n",
    "plt.ylabel('Cell number');\n",
    "#plt.savefig(\"ml_fit.pdf\")\n",
    "plt.show()"
   ]
  },
  {
   "cell_type": "markdown",
   "metadata": {},
   "source": [
    "### log-likelihood function\n",
    "\n",
    "\\begin{align*}\n",
    "\\hat{\\boldsymbol{\\theta}}&=\\underset{\\boldsymbol{\\theta}\\in\\Theta}{\\text{argmax}}[\\log\\pi(\\boldsymbol{D}|\\boldsymbol{\\theta})];\\\\\n",
    "&=\\underset{\\boldsymbol{\\theta}\\in\\Theta}{\\text{argmax}}\\left[-\\frac{1}{2}\\sum_{i=1}^{N_t}\\left(\\log(2\\pi\\sigma^2)+\\frac{(D_{i}-Y_i(\\boldsymbol{\\theta}))^2}{\\sigma^2}\\right)\\right].\n",
    "\\end{align*}"
   ]
  },
  {
   "cell_type": "code",
   "execution_count": null,
   "metadata": {},
   "outputs": [],
   "source": [
    "def log_likelihood_ic(theta, times, y):\n",
    "    cal_r, cal_K, cal_sigma, cal_ic = theta\n",
    "    model = odeint(control_tumor, t=times, y0=cal_ic, args=tuple([[cal_r,cal_K]]))\n",
    "    variance = cal_sigma*cal_sigma\n",
    "    return -0.5 * np.sum((y - model) ** 2 / variance + np.log(2*np.pi) + np.log(variance))"
   ]
  },
  {
   "cell_type": "code",
   "execution_count": null,
   "metadata": {},
   "outputs": [],
   "source": [
    "nll = lambda *args: -log_likelihood_ic(*args)\n",
    "\n",
    "initial = [0.4, 50.0, 0.3, 5.0]\n",
    "\n",
    "bounds = Bounds([0.0, 10.0, 0.1, 0.1], [1.0, 120.0, 30.0, 20.0])\n",
    "\n",
    "soln = minimize(nll, initial, args=(times, yobs), bounds=bounds)\n",
    "\n",
    "ml_r, ml_K, ml_sigma, ml_ic = soln.x\n",
    "\n",
    "print(\"Maximum likelihood estimates:\")\n",
    "print(\"Growth rate = %f\" % ml_r)\n",
    "print(\"Carrying capacity = %f\" % ml_K)\n",
    "print(\"Standard deviation = %f\" % ml_sigma)\n",
    "print(\"Initial condition = %f\" % ml_ic)\n",
    "\n",
    "error_r=100*abs(ml_r-true_r)/true_r\n",
    "error_K=100*abs(ml_K-true_K)/true_K\n",
    "error_sigma=100*abs(ml_sigma-true_sigma)/true_sigma\n",
    "error_ic=100*abs(ml_ic-true_ic)/true_ic\n",
    "\n",
    "print(\"Growth rate %% error = %f\" % error_r)\n",
    "print(\"Carrying capacity %% error = %f\" % error_K)\n",
    "print(\"Standard deviation %% error = %f\" % error_sigma)\n",
    "print(\"Initial condition %% error = %f\" % error_ic)"
   ]
  },
  {
   "cell_type": "code",
   "execution_count": null,
   "metadata": {},
   "outputs": [],
   "source": [
    "y_ml = odeint(control_tumor, t=times, y0=ml_ic, args=tuple([[ml_r,ml_K]]))"
   ]
  },
  {
   "cell_type": "code",
   "execution_count": null,
   "metadata": {},
   "outputs": [],
   "source": [
    "fig, ax = plt.subplots(dpi=120)\n",
    "plt.plot(times, y_ml, label='Calibrated model', linestyle='dashed', color='blue',linewidth=2.0)\n",
    "plt.plot(times, y, label='True data', color='black', alpha=0.75,linewidth=2.0)\n",
    "plt.scatter(times, yobs, label='Measured data', color='red')\n",
    "plt.legend()\n",
    "plt.xlabel('Time (hours)')\n",
    "plt.ylabel('Cell number');\n",
    "#plt.savefig(\"ml_fit.pdf\")\n",
    "plt.show()"
   ]
  },
  {
   "cell_type": "markdown",
   "metadata": {},
   "source": [
    "## Bayesian approach\n",
    "Given events A and B:\n",
    "\\begin{align*}\n",
    "P(A,B)&=P(A|B)P(B);\\\\\n",
    "P(A,B)&=P(B,A);\\\\\n",
    "P(B,A)&=P(B|A)P(A);\\\\\n",
    "P(A|B)P(B)&=P(B|A)P(A);\\\\\n",
    "P(A|B)&=\\frac{P(B|A)P(A)}{P(B)};\n",
    "\\end{align*}\n",
    "\n",
    "Converting to probability densities $\\pi$, if $A$ represents the parameter $\\boldsymbol{\\theta}$ of a model, and $B$ the observational data $\\boldsymbol{D}$:\n",
    "\\begin{align*}\n",
    "\\underbrace{\\pi(\\boldsymbol{\\theta}|\\boldsymbol{D})}_{\\text{posterior}}&=\\frac{\\overbrace{\\pi(\\boldsymbol{D}|\\boldsymbol{\\theta})}^{\\text{likelihood}}\\overbrace{\\pi(\\boldsymbol{\\theta})}^{\\text{prior}}}{\\underbrace{\\pi(\\boldsymbol{D})}_{\\text{evidence}}};\\qquad \\pi(\\boldsymbol{D})=\\int_\\Theta\\pi(\\boldsymbol{D}|\\boldsymbol{\\theta})\\pi(\\boldsymbol{\\theta})\\, \\text{d}\\theta\\\\\n",
    "\\pi(\\boldsymbol{\\theta}|\\boldsymbol{D})&\\propto\\pi(\\boldsymbol{D}|\\boldsymbol{\\theta})\\pi(\\boldsymbol{\\theta});\\\\\n",
    "\\log\\pi(\\boldsymbol{\\theta}|\\boldsymbol{D})&\\propto\\log\\pi(\\boldsymbol{D}|\\boldsymbol{\\theta})+\\log\\pi(\\boldsymbol{\\theta});\n",
    "\\end{align*}"
   ]
  },
  {
   "cell_type": "code",
   "execution_count": null,
   "metadata": {},
   "outputs": [],
   "source": [
    "def log_prior(theta):\n",
    "    cal_r, cal_K, cal_sigma, cal_ic = theta\n",
    "    if 0.0 < cal_r < 1.0 and 10.0 < cal_K < 120.0 and 0.1 < cal_sigma < 30.0 and 0.1 < cal_ic < 20.0:\n",
    "        return 0.0\n",
    "    return -np.inf"
   ]
  },
  {
   "cell_type": "code",
   "execution_count": null,
   "metadata": {},
   "outputs": [],
   "source": [
    "def log_probability(theta, times, y):\n",
    "    lp = log_prior(theta)\n",
    "    if not np.isfinite(lp):\n",
    "        return -np.inf\n",
    "    return lp + log_likelihood_ic(theta, times, y)"
   ]
  },
  {
   "cell_type": "code",
   "execution_count": null,
   "metadata": {},
   "outputs": [],
   "source": [
    "mean_par = np.array([0.4, 50.0, 0.3, 10.0])\n",
    "pos = mean_par + 1e-2 * np.random.randn(10,4)"
   ]
  },
  {
   "cell_type": "code",
   "execution_count": null,
   "metadata": {},
   "outputs": [],
   "source": [
    "print(type(pos))\n",
    "print(pos)\n",
    "print(pos.shape)"
   ]
  },
  {
   "cell_type": "code",
   "execution_count": null,
   "metadata": {},
   "outputs": [],
   "source": [
    "nwalkers, ndim = pos.shape\n",
    "sampler = emcee.EnsembleSampler(nwalkers, ndim, log_probability, args=(times, yobs))\n",
    "sampler.run_mcmc(pos, 12500, progress=True);"
   ]
  },
  {
   "cell_type": "code",
   "execution_count": null,
   "metadata": {},
   "outputs": [],
   "source": [
    "fig, axes = plt.subplots(4, figsize=(10, 7), sharex=True)\n",
    "samples = sampler.get_chain()\n",
    "labels = [\"Growth rate\", \"Carrying Capacity\", \"Standard deviation\", \"Initial condition\"]\n",
    "for i in range(ndim):\n",
    "    ax = axes[i]\n",
    "    ax.plot(samples[:, :, i], \"k\", alpha=0.3)\n",
    "    ax.set_xlim(0, len(samples))\n",
    "    ax.set_ylabel(labels[i])\n",
    "    ax.yaxis.set_label_coords(-0.1, 0.5)\n",
    "\n",
    "axes[-1].set_xlabel(\"step number\");"
   ]
  },
  {
   "cell_type": "code",
   "execution_count": null,
   "metadata": {},
   "outputs": [],
   "source": [
    "tau = sampler.get_autocorr_time()\n",
    "print(tau)"
   ]
  },
  {
   "cell_type": "code",
   "execution_count": null,
   "metadata": {},
   "outputs": [],
   "source": [
    "flat_samples = sampler.get_chain(discard=500, flat=True)\n",
    "print(flat_samples.shape)"
   ]
  },
  {
   "cell_type": "code",
   "execution_count": null,
   "metadata": {},
   "outputs": [],
   "source": [
    "fig = corner.corner(flat_samples, labels=labels, truths=[true_r, true_K, true_sigma, true_ic]);"
   ]
  },
  {
   "cell_type": "code",
   "execution_count": null,
   "metadata": {},
   "outputs": [],
   "source": [
    "fig, ax = plt.subplots(dpi=120)\n",
    "inds = np.random.randint(len(flat_samples), size=100)\n",
    "for ind in inds:\n",
    "    sample = flat_samples[ind]\n",
    "    y_sp = odeint(control_tumor, t=times, y0=sample[3], args=tuple([[sample[0],sample[1]]]))\n",
    "    plt.plot(times, y_sp, 'blue', alpha=0.5)\n",
    "plt.plot(times, y_sp, label='Calibrated model', color='blue', alpha=0.5)\n",
    "plt.scatter(times, yobs, zorder=100, label='Measured data', color='red')\n",
    "plt.legend()\n",
    "plt.xlabel('Time (hours)')\n",
    "plt.ylabel('Cell number');\n",
    "#plt.savefig(\"bc_fit.pdf\")\n",
    "plt.show()"
   ]
  },
  {
   "cell_type": "code",
   "execution_count": null,
   "metadata": {},
   "outputs": [],
   "source": [
    "for i in range(ndim):\n",
    "    mcmc = np.percentile(flat_samples[:, i], [16, 50, 84])\n",
    "    q = np.diff(mcmc)\n",
    "    txt = \"\\mathrm{{{3}}} = {0:.3f}_{{-{1:.3f}}}^{{{2:.3f}}}\"\n",
    "    txt = txt.format(mcmc[1], q[0], q[1], labels[i])\n",
    "    display(Math(txt))"
   ]
  },
  {
   "cell_type": "markdown",
   "metadata": {},
   "source": [
    "# Exercise\n",
    "Let C be the drug concentration (ng/mL) and assume that: it is consumed by the tumor by a rate $g$. The number of cells will decrease proportionally to the drug concentration at a rate $f$. With these assumptions, the mathematical model is:\n",
    "\\begin{align}\n",
    "\\frac{dN}{dt}&=rN\\left(1-\\frac{N}{K}\\right)-fNC,\\\\\n",
    "\\frac{dC}{dt}&=-gNC.\n",
    "\\end{align}\n",
    "\n",
    "- $r$: tumor growth rate;\n",
    "- $K$: environmental carrying capacity;\n",
    "- $f$: tumor death rate due to the drug\n",
    "- $g$: drug consumption rate\n",
    "- $\\theta=(r,K,f,a,b,g)$"
   ]
  },
  {
   "cell_type": "code",
   "execution_count": null,
   "metadata": {},
   "outputs": [],
   "source": [
    "#theta = (r,K,f,,g)\n",
    "def treated_tumor(y, t, theta):\n",
    "    tumor=theta[0] * y[0] * (1.0 - y[0] / theta[1])-theta[2]*y[0]*y[1]\n",
    "    drug=-theta[3] * y[0] * y[1]\n",
    "    return [tumor,drug]"
   ]
  },
  {
   "cell_type": "markdown",
   "metadata": {},
   "source": [
    "## Generating the data\n",
    "We will generate the in silico data using the true model and adding a random perturbation"
   ]
  },
  {
   "cell_type": "code",
   "execution_count": null,
   "metadata": {},
   "outputs": [],
   "source": [
    "# Define time interval, parameter value, and initial condition\n",
    "times = np.arange(0,50,0.5)\n",
    "r = 0.25\n",
    "K = 60\n",
    "f = 0.1\n",
    "g = 0.2\n",
    "tumor_ic = 1\n",
    "drug_ic = 5\n",
    "# Solving the ODE model\n",
    "y = odeint(treated_tumor, t=times, y0=[tumor_ic,drug_ic], args=tuple([[r,K,f,g]]))"
   ]
  },
  {
   "cell_type": "code",
   "execution_count": null,
   "metadata": {},
   "outputs": [],
   "source": [
    "#Adding perturbation\n",
    "true_sigmaT = 3.6\n",
    "np.random.seed(2021) # For reproducibility\n",
    "yobs = np.copy(y)\n",
    "yobs[:,0] = np.random.normal(y[:,0],true_sigmaT)\n",
    "true_sigmaD = 0.2\n",
    "yobs[:,1] = np.random.normal(y[:,1],true_sigmaD)\n",
    "yobs[yobs < 0] = 0"
   ]
  },
  {
   "cell_type": "code",
   "execution_count": null,
   "metadata": {},
   "outputs": [],
   "source": [
    "# Plotting the true and observed data\n",
    "fig, ax = plt.subplots(dpi=120)\n",
    "plt.plot(times, y[:,0], label='True data', color='black',linewidth=2.0)\n",
    "plt.scatter(times, yobs[:,0], label='Measured data', color='red')\n",
    "plt.legend()\n",
    "plt.xlabel('Time (hours)')\n",
    "plt.ylabel('Cell number');\n",
    "#plt.savefig(\"just_data.pdf\")\n",
    "plt.show()"
   ]
  },
  {
   "cell_type": "code",
   "execution_count": null,
   "metadata": {},
   "outputs": [],
   "source": [
    "# Plotting the drug solution\n",
    "fig, ax = plt.subplots(dpi=120)\n",
    "plt.plot(times, y[:,1], label='True data', color='black',linewidth=2.0)\n",
    "plt.scatter(times, yobs[:,1], label='Measured data', color='red')\n",
    "plt.legend()\n",
    "plt.xlabel('Time (hours)')\n",
    "plt.ylabel('Drug Concentration');\n",
    "#plt.savefig(\"just_data.pdf\")\n",
    "plt.show()"
   ]
  },
  {
   "cell_type": "markdown",
   "metadata": {},
   "source": [
    "## Assumptions\n",
    "The values of r, K, $\\sigma_T$ and tumor initial condition are given as\n",
    "\n",
    "r = 0.265\n",
    "\n",
    "K = 60.251\n",
    "\n",
    "$\\sigma_T$ = 3.697\n",
    "\n",
    "tumor initial condition = 0.779\n",
    "\n",
    "Calibrate\n",
    "\n",
    "f, g, $\\sigma_D$, and drug initial condition"
   ]
  },
  {
   "cell_type": "code",
   "execution_count": null,
   "metadata": {},
   "outputs": [],
   "source": []
  }
 ],
 "metadata": {
  "kernelspec": {
   "display_name": "Python 3",
   "language": "python",
   "name": "python3"
  },
  "language_info": {
   "codemirror_mode": {
    "name": "ipython",
    "version": 3
   },
   "file_extension": ".py",
   "mimetype": "text/x-python",
   "name": "python",
   "nbconvert_exporter": "python",
   "pygments_lexer": "ipython3",
   "version": "3.8.5"
  }
 },
 "nbformat": 4,
 "nbformat_minor": 4
}
