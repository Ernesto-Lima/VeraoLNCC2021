{
 "cells": [
  {
   "cell_type": "code",
   "execution_count": null,
   "metadata": {},
   "outputs": [],
   "source": []
  },
  {
   "cell_type": "markdown",
   "metadata": {},
   "source": [
    "A web-based, interactive computing tool for capturing the whole computation process: developing, documenting, and executing code, as well as communicating the results.\n",
    "- Ctrl-Enter: run cell in-place\n",
    "- Shift-Enter: run cell\n",
    "- Alt-Enter: run cell, insert below\n",
    "\n",
    "Indentation matters!\n",
    "\n",
    "Capitalization is important!"
   ]
  },
  {
   "cell_type": "code",
   "execution_count": null,
   "metadata": {},
   "outputs": [],
   "source": []
  },
  {
   "cell_type": "code",
   "execution_count": 1,
   "metadata": {},
   "outputs": [
    {
     "name": "stdout",
     "output_type": "stream",
     "text": [
      "5\n",
      "2\n"
     ]
    }
   ],
   "source": [
    "# Here I am printing\n",
    "print(5)\n",
    "print(1+1)"
   ]
  },
  {
   "cell_type": "markdown",
   "metadata": {},
   "source": [
    "## Variables\n",
    "When declaring a variable, capitalization is important!"
   ]
  },
  {
   "cell_type": "code",
   "execution_count": 2,
   "metadata": {},
   "outputs": [
    {
     "name": "stdout",
     "output_type": "stream",
     "text": [
      "5\n",
      "2\n",
      "This is a string\n"
     ]
    }
   ],
   "source": [
    "Five = 5\n",
    "one = 1\n",
    "twodot = 2.0\n",
    "print (Five)\n",
    "print (one + one)\n",
    "message = \"This is a string\"\n",
    "print (message)"
   ]
  },
  {
   "cell_type": "code",
   "execution_count": 3,
   "metadata": {},
   "outputs": [
    {
     "name": "stdout",
     "output_type": "stream",
     "text": [
      "<class 'int'>\n"
     ]
    }
   ],
   "source": [
    "print (type(one))"
   ]
  },
  {
   "cell_type": "code",
   "execution_count": 4,
   "metadata": {},
   "outputs": [
    {
     "name": "stdout",
     "output_type": "stream",
     "text": [
      "<class 'float'>\n"
     ]
    }
   ],
   "source": [
    "print (type(twodot))"
   ]
  },
  {
   "cell_type": "code",
   "execution_count": 5,
   "metadata": {},
   "outputs": [
    {
     "name": "stdout",
     "output_type": "stream",
     "text": [
      "helloworld\n",
      "numbernumbernumbernumbernumber\n"
     ]
    }
   ],
   "source": [
    "print(\"hello\" + \"world\")\n",
    "print(\"number\" * 5)"
   ]
  },
  {
   "cell_type": "code",
   "execution_count": 6,
   "metadata": {},
   "outputs": [
    {
     "ename": "TypeError",
     "evalue": "can only concatenate str (not \"int\") to str",
     "output_type": "error",
     "traceback": [
      "\u001b[0;31m---------------------------------------------------------------------------\u001b[0m",
      "\u001b[0;31mTypeError\u001b[0m                                 Traceback (most recent call last)",
      "\u001b[0;32m<ipython-input-6-0ee9fe14d5c9>\u001b[0m in \u001b[0;36m<module>\u001b[0;34m\u001b[0m\n\u001b[0;32m----> 1\u001b[0;31m \u001b[0mprint\u001b[0m\u001b[0;34m(\u001b[0m\u001b[0;34m\"some\"\u001b[0m \u001b[0;34m+\u001b[0m \u001b[0;36m1\u001b[0m\u001b[0;34m)\u001b[0m\u001b[0;34m\u001b[0m\u001b[0;34m\u001b[0m\u001b[0m\n\u001b[0m",
      "\u001b[0;31mTypeError\u001b[0m: can only concatenate str (not \"int\") to str"
     ]
    }
   ],
   "source": [
    "print(\"some\" + 1)"
   ]
  },
  {
   "cell_type": "code",
   "execution_count": null,
   "metadata": {},
   "outputs": [],
   "source": [
    "year=\"2020\"\n",
    "print(int(year)+1)"
   ]
  },
  {
   "cell_type": "markdown",
   "metadata": {},
   "source": [
    "## Arithmetic Operations\n",
    "\n",
    "Addition +\n",
    "\n",
    "Subtraction -\n",
    "\n",
    "Division /\n",
    "\n",
    "Modulo %\n",
    "\n",
    "Multiplication *\n",
    "\n",
    "Floor division //\n",
    "\n",
    "The power of **"
   ]
  },
  {
   "cell_type": "code",
   "execution_count": null,
   "metadata": {},
   "outputs": [],
   "source": [
    "print(5%2)\n",
    "print(5/2)\n",
    "print(5//2)\n",
    "print(2**3)"
   ]
  },
  {
   "cell_type": "markdown",
   "metadata": {},
   "source": [
    "## Reading from the Keyboard"
   ]
  },
  {
   "cell_type": "code",
   "execution_count": null,
   "metadata": {},
   "outputs": [],
   "source": [
    "numIn = input(\"Please enter a number: \")"
   ]
  },
  {
   "cell_type": "code",
   "execution_count": null,
   "metadata": {},
   "outputs": [],
   "source": [
    "print (\"The number that you wrote was : \", numIn)\n",
    "print (\"The number that you wrote was : %d\" % numIn)"
   ]
  },
  {
   "cell_type": "code",
   "execution_count": null,
   "metadata": {},
   "outputs": [],
   "source": [
    "nameIn = input(\"Please enter your name: \")\n",
    "print (\"Hello %s, you entered the number %s\" % (nameIn,numIn))"
   ]
  },
  {
   "cell_type": "markdown",
   "metadata": {},
   "source": [
    "## Writing and Reading Files\n",
    "When opening a file, you need to decide “how” you want to open it: Just read? Are you going to write to the file? If the file already exists, what do you want to do with it?\n",
    "\n",
    "- r: read only (default)\n",
    "- w: write mode, file will be overwritten if it already exists\n",
    "- a: append mode, data will be appended to the existing file"
   ]
  },
  {
   "cell_type": "code",
   "execution_count": null,
   "metadata": {},
   "outputs": [],
   "source": [
    "my_file = open(\"output_file.txt\",'w')\n",
    "var1 = \"This is a string\"\n",
    "var2 = 10\n",
    "my_file.write(var1)\n",
    "my_file.write(\"\\n\")\n",
    "my_file.write(str(var2))\n",
    "my_file.close()"
   ]
  },
  {
   "cell_type": "code",
   "execution_count": null,
   "metadata": {},
   "outputs": [],
   "source": [
    "my_file = open(\"output_file.txt\",'r')\n",
    "content = my_file.read()\n",
    "print(content)\n",
    "my_file.close()"
   ]
  },
  {
   "cell_type": "code",
   "execution_count": null,
   "metadata": {},
   "outputs": [],
   "source": [
    "my_file = open(\"output_file.txt\",'r')\n",
    "var1 = my_file.readline()\n",
    "var2 = my_file.readline()\n",
    "print(\"String: \", var1)\n",
    "print(\"Integer: \", var2)\n",
    "my_file.close()"
   ]
  },
  {
   "cell_type": "markdown",
   "metadata": {},
   "source": [
    "## if/else/elif\n",
    "Indentation matters!"
   ]
  },
  {
   "cell_type": "code",
   "execution_count": null,
   "metadata": {},
   "outputs": [],
   "source": [
    "a=2\n",
    "b=5\n",
    "print(\"Is a bigger than b?\", a>b)\n",
    "print(\"Is a smaller than b?\", a<b)\n",
    "print(\"Is a equal to b?\", a == b)\n",
    "print(\"Is a different from b?\", a != b)\n",
    "print(\"Is a different from b or bigger than b?\", a != b or a>b)\n",
    "print(\"Is a different from b and bigger than b?\", a != b and a>b)"
   ]
  },
  {
   "cell_type": "code",
   "execution_count": null,
   "metadata": {},
   "outputs": [],
   "source": [
    "if a>b:\n",
    "    print(\"a is bigger than b\")\n",
    "elif a<b:\n",
    "    print(\"a is smaller than b\")\n",
    "else:\n",
    "    print(\"a is equal to b\")"
   ]
  },
  {
   "cell_type": "code",
   "execution_count": null,
   "metadata": {},
   "outputs": [],
   "source": [
    "if a>b:\n",
    "    print(\"a is bigger than b\")\n",
    "elif a<b:\n",
    "    print(\"a is smaller than b\")\n",
    "    if a>0:\n",
    "        print(\"a is positive\")\n",
    "else:\n",
    "    print(\"a is equal to b\")"
   ]
  },
  {
   "cell_type": "markdown",
   "metadata": {},
   "source": [
    "## Exercise\n",
    "- enter a integer number from the keyboard into a variable.\n",
    "- using type casting and if statements, determine if the number is even or odd"
   ]
  },
  {
   "cell_type": "code",
   "execution_count": null,
   "metadata": {},
   "outputs": [],
   "source": []
  },
  {
   "cell_type": "markdown",
   "metadata": {},
   "source": [
    "## Loops\n",
    "Indentation is IMPORTANT!"
   ]
  },
  {
   "cell_type": "code",
   "execution_count": null,
   "metadata": {},
   "outputs": [],
   "source": [
    "for x in range(0,3):\n",
    "    print(\"x = %d\" % x)"
   ]
  },
  {
   "cell_type": "code",
   "execution_count": null,
   "metadata": {},
   "outputs": [],
   "source": [
    "for x in range(0,3):\n",
    "    for y in range(0,3):\n",
    "        print(\"(x,y) = (%d,%d)\" % (x,y))"
   ]
  },
  {
   "cell_type": "code",
   "execution_count": null,
   "metadata": {},
   "outputs": [],
   "source": [
    "i = 0\n",
    "while(i < 10):\n",
    "    print(i)\n",
    "    i = i+1"
   ]
  },
  {
   "cell_type": "markdown",
   "metadata": {},
   "source": [
    "# Exercise\n",
    "Using a for/while loop, for $1\\leq x\\leq 5$ and $1\\leq y\\leq 5$, print when $x*y$ is even"
   ]
  },
  {
   "cell_type": "code",
   "execution_count": null,
   "metadata": {},
   "outputs": [],
   "source": []
  },
  {
   "cell_type": "markdown",
   "metadata": {},
   "source": [
    "## Lists"
   ]
  },
  {
   "cell_type": "code",
   "execution_count": null,
   "metadata": {},
   "outputs": [],
   "source": [
    "mylist1 = [\"first item\", \"second item\"]\n",
    "mylist2 = [1, 2, 3, 4]\n",
    "mylist3 = [\"first\", \"second\", 3]\n",
    "print(mylist1[0], mylist1[1])\n",
    "print(mylist2[0])\n",
    "print(mylist3)\n",
    "print(type(mylist3))\n",
    "print(type(mylist3[0]))\n",
    "print(type(mylist3[2]))"
   ]
  },
  {
   "cell_type": "code",
   "execution_count": null,
   "metadata": {},
   "outputs": [],
   "source": [
    "mylist3[1]=2.0\n",
    "mylist3.append(\"LNCC\")\n",
    "for item in mylist3:\n",
    "    print(item)"
   ]
  },
  {
   "cell_type": "code",
   "execution_count": null,
   "metadata": {},
   "outputs": [],
   "source": [
    "print(\"Is 3 in mylist3?\", 3 in mylist3)"
   ]
  },
  {
   "cell_type": "markdown",
   "metadata": {},
   "source": [
    "## Tuple\n",
    "A tuple is a collection which is ordered and unchangeable"
   ]
  },
  {
   "cell_type": "code",
   "execution_count": 7,
   "metadata": {},
   "outputs": [
    {
     "name": "stdout",
     "output_type": "stream",
     "text": [
      "apple\n",
      "banana\n",
      "3\n"
     ]
    }
   ],
   "source": [
    "mytuple = (\"apple\", \"banana\", 3)\n",
    "for item in mytuple:\n",
    "    print(item)"
   ]
  },
  {
   "cell_type": "code",
   "execution_count": 8,
   "metadata": {},
   "outputs": [
    {
     "ename": "TypeError",
     "evalue": "'tuple' object does not support item assignment",
     "output_type": "error",
     "traceback": [
      "\u001b[0;31m---------------------------------------------------------------------------\u001b[0m",
      "\u001b[0;31mTypeError\u001b[0m                                 Traceback (most recent call last)",
      "\u001b[0;32m<ipython-input-8-addc266fdc5c>\u001b[0m in \u001b[0;36m<module>\u001b[0;34m\u001b[0m\n\u001b[0;32m----> 1\u001b[0;31m \u001b[0mmytuple\u001b[0m\u001b[0;34m[\u001b[0m\u001b[0;36m1\u001b[0m\u001b[0;34m]\u001b[0m\u001b[0;34m=\u001b[0m\u001b[0;36m3\u001b[0m\u001b[0;34m\u001b[0m\u001b[0;34m\u001b[0m\u001b[0m\n\u001b[0m",
      "\u001b[0;31mTypeError\u001b[0m: 'tuple' object does not support item assignment"
     ]
    }
   ],
   "source": [
    "mytuple[1]=3"
   ]
  },
  {
   "cell_type": "markdown",
   "metadata": {},
   "source": [
    "## User defined functions\n",
    "User-defined functions are reusable code blocks; they only need to be written once, then they can be used multiple times."
   ]
  },
  {
   "cell_type": "code",
   "execution_count": 9,
   "metadata": {},
   "outputs": [],
   "source": [
    "def addNumbers(n1,n2,n3):\n",
    "    sum123 = n1+n2+n3\n",
    "    return sum123"
   ]
  },
  {
   "cell_type": "code",
   "execution_count": 10,
   "metadata": {},
   "outputs": [
    {
     "name": "stdout",
     "output_type": "stream",
     "text": [
      "11\n"
     ]
    }
   ],
   "source": [
    "total=addNumbers(2,4,5)\n",
    "print(total)"
   ]
  },
  {
   "cell_type": "markdown",
   "metadata": {},
   "source": [
    "# Exercise\n",
    "Write a user defined function that accepts x and y and returns:\n",
    "\\begin{equation}\n",
    "(x+y)^2\n",
    "\\end{equation}"
   ]
  },
  {
   "cell_type": "code",
   "execution_count": null,
   "metadata": {},
   "outputs": [],
   "source": []
  },
  {
   "cell_type": "markdown",
   "metadata": {},
   "source": [
    "## Anonymous Functions"
   ]
  },
  {
   "cell_type": "code",
   "execution_count": 11,
   "metadata": {},
   "outputs": [
    {
     "name": "stdout",
     "output_type": "stream",
     "text": [
      "100\n"
     ]
    }
   ],
   "source": [
    "x = lambda a: a*10\n",
    "print(x(10))"
   ]
  },
  {
   "cell_type": "code",
   "execution_count": 12,
   "metadata": {},
   "outputs": [],
   "source": [
    "def myfunc(x):\n",
    "    return lambda a: a*x"
   ]
  },
  {
   "cell_type": "code",
   "execution_count": 13,
   "metadata": {},
   "outputs": [
    {
     "name": "stdout",
     "output_type": "stream",
     "text": [
      "50\n"
     ]
    }
   ],
   "source": [
    "y=myfunc(10)\n",
    "print(y(5))"
   ]
  },
  {
   "cell_type": "code",
   "execution_count": 14,
   "metadata": {},
   "outputs": [
    {
     "name": "stdout",
     "output_type": "stream",
     "text": [
      "500\n"
     ]
    }
   ],
   "source": [
    "z=myfunc(100)\n",
    "print(z(5))"
   ]
  },
  {
   "cell_type": "markdown",
   "metadata": {},
   "source": [
    "## Defining the model\n",
    "Let N be the number of tumor cells and assume that this number can increase with a growth rate of $r$ cells/hour until it reaches the environmental carrying capacity of $K$ cells. With these assumptions, the mathematical model is:\n",
    "\\begin{equation}\n",
    "\\frac{dN}{dt}=rN\\left(1-\\frac{N}{K}\\right),\n",
    "\\end{equation}\n",
    "\n",
    "- $r$: tumor growth rate;\n",
    "- $K$: environmental carrying capacity;\n",
    "- $\\theta=(r,K)$"
   ]
  },
  {
   "cell_type": "code",
   "execution_count": 15,
   "metadata": {},
   "outputs": [],
   "source": [
    "# Let y be the vector of outputs, t the time, and theta the vector of parameters\n",
    "def control_tumor(y, t, theta):\n",
    "    return theta[0] * y[0] * (1.0 - y[0] / theta[1])"
   ]
  },
  {
   "cell_type": "code",
   "execution_count": 16,
   "metadata": {},
   "outputs": [],
   "source": [
    "import numpy as np\n",
    "# Define time interval, parameter value, and initial condition\n",
    "times = np.arange(0,50,0.5)\n",
    "true_growth, true_ic, true_carry = 0.25, 1, 60\n",
    "# Solving the ODE model\n",
    "from scipy.integrate import odeint\n",
    "sol = odeint(control_tumor, t=times, y0=true_ic, args=tuple([[true_growth,true_carry]]))"
   ]
  },
  {
   "cell_type": "code",
   "execution_count": 17,
   "metadata": {},
   "outputs": [
    {
     "data": {
      "image/png": "[encoded data removed]",
      "text/plain": [
       "<Figure size 720x480 with 1 Axes>"
      ]
     },
     "metadata": {
      "needs_background": "light"
     },
     "output_type": "display_data"
    }
   ],
   "source": [
    "# Plotting the solution\n",
    "import matplotlib.pyplot as plt\n",
    "fig, ax = plt.subplots(dpi=120)\n",
    "plt.plot(times, sol, label='Logistic Model', color='red',linewidth=2.0)\n",
    "plt.legend()\n",
    "plt.xlabel('Time (hours)')\n",
    "plt.ylabel('Cell number');\n",
    "#plt.savefig(\"just_data.pdf\")\n",
    "plt.show()"
   ]
  },
  {
   "cell_type": "markdown",
   "metadata": {},
   "source": [
    "## Adding drug\n",
    "Let C be the drug concentration (ng/mL) and assume that: it is being constantly delivered at a rate $a$, it naturally decays at a rate $b$, and it is consumed by the tumor by a rate $g$. The number of cells will decrease proportionally to the drug concentration at a rate $f$. With these assumptions, the mathematical model is:\n",
    "\\begin{align}\n",
    "\\frac{dN}{dt}&=rN\\left(1-\\frac{N}{K}\\right)-fCN,\\\\\n",
    "\\frac{dC}{dt}&=a-bN-gCN.\n",
    "\\end{align}\n",
    "\n",
    "- $r$: tumor growth rate;\n",
    "- $K$: environmental carrying capacity;\n",
    "- $f$: tumor death rate due to the drug\n",
    "- $a$: drug delivery\n",
    "- $b$: durg natural decay\n",
    "- $g$: drug consumption rate\n",
    "- $\\theta=(r,K,f,a,b,g)$"
   ]
  },
  {
   "cell_type": "code",
   "execution_count": 18,
   "metadata": {},
   "outputs": [],
   "source": [
    "#theta = (r,K,f,a,b,g)\n",
    "def treated_tumor(y, t, theta):\n",
    "    tumor=theta[0] * y[0] * (1.0 - y[0] / theta[1])-theta[2]*y[0]*y[1]\n",
    "    drug=theta[3]-theta[4]*y[1]-theta[5]*y[0]*y[1]\n",
    "    return [tumor,drug]"
   ]
  },
  {
   "cell_type": "code",
   "execution_count": 19,
   "metadata": {},
   "outputs": [],
   "source": [
    "# Define time interval, parameter value, and initial condition\n",
    "times = np.arange(0,50,0.5)\n",
    "r = 0.25\n",
    "K = 60\n",
    "f = 0.1\n",
    "a = 1.0\n",
    "b = 0.1\n",
    "g = 0.2\n",
    "tumor_ic = 1\n",
    "drug_ic = 0\n",
    "# Solving the ODE model\n",
    "y = odeint(treated_tumor, t=times, y0=[tumor_ic,drug_ic], args=tuple([[r,K,f,a,b,g]]))\n",
    "sol = odeint(control_tumor, t=times, y0=tumor_ic, args=tuple([[r,K]]))"
   ]
  },
  {
   "cell_type": "code",
   "execution_count": 20,
   "metadata": {},
   "outputs": [
    {
     "data": {
      "image/png": "[encoded data removed]",
      "text/plain": [
       "<Figure size 720x480 with 1 Axes>"
      ]
     },
     "metadata": {
      "needs_background": "light"
     },
     "output_type": "display_data"
    }
   ],
   "source": [
    "# Plotting the tumor solution\n",
    "fig, ax = plt.subplots(dpi=120)\n",
    "plt.plot(times, y[:,0], label='Treated Tumor', color='red',linewidth=2.0)\n",
    "plt.plot(times, sol, label='Control Tumor', color='black',linewidth=2.0)\n",
    "plt.legend()\n",
    "plt.xlabel('Time (hours)')\n",
    "plt.ylabel('Cell number');\n",
    "#plt.savefig(\"just_data.pdf\")\n",
    "plt.show()"
   ]
  },
  {
   "cell_type": "code",
   "execution_count": 21,
   "metadata": {},
   "outputs": [
    {
     "data": {
      "image/png": "[encoded data removed]",
      "text/plain": [
       "<Figure size 720x480 with 1 Axes>"
      ]
     },
     "metadata": {
      "needs_background": "light"
     },
     "output_type": "display_data"
    }
   ],
   "source": [
    "# Plotting the drug solution\n",
    "fig, ax = plt.subplots(dpi=120)\n",
    "plt.plot(times, y[:,1], label='Drug', color='red',linewidth=2.0)\n",
    "plt.legend()\n",
    "plt.xlabel('Time (hours)')\n",
    "plt.ylabel('Drug Concentration');\n",
    "#plt.savefig(\"just_data.pdf\")\n",
    "plt.show()"
   ]
  },
  {
   "cell_type": "markdown",
   "metadata": {},
   "source": [
    "# Exercise\n",
    "Let C be the drug concentration (ng/mL) and assume that: it is being constantly delivered at a rate $a$, it naturally decays at a rate $b$, and it is consumed by the tumor by a rate $g$. Let $D$ be the tumor cells that lost the hability to proliferate due to the drug at a rate $f$. With these assumptions, the mathematical model is:\n",
    "\\begin{align}\n",
    "\\frac{dN}{dt}&=rN\\left(1-\\frac{N+D}{K}\\right)-fCN,\\\\\n",
    "\\frac{dC}{dt}&=a-bN-gCN-rCD,\\\\\n",
    "\\frac{dD}{dt}&=fCN.\n",
    "\\end{align}\n",
    "\n",
    "- $r$: tumor growth rate;\n",
    "- $K$: environmental carrying capacity;\n",
    "- $f$: proliferation inhibition due to the drug\n",
    "- $a$: drug delivery\n",
    "- $b$: durg natural decay\n",
    "- $g$: drug consumption rate"
   ]
  },
  {
   "cell_type": "code",
   "execution_count": null,
   "metadata": {},
   "outputs": [],
   "source": []
  }
 ],
 "metadata": {
  "kernelspec": {
   "display_name": "Python 3",
   "language": "python",
   "name": "python3"
  },
  "language_info": {
   "codemirror_mode": {
    "name": "ipython",
    "version": 3
   },
   "file_extension": ".py",
   "mimetype": "text/x-python",
   "name": "python",
   "nbconvert_exporter": "python",
   "pygments_lexer": "ipython3",
   "version": "3.8.5"
  }
 },
 "nbformat": 4,
 "nbformat_minor": 4
}
