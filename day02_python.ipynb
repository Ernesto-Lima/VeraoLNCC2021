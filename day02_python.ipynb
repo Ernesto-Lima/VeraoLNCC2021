{
 "cells": [
  {
   "cell_type": "markdown",
   "metadata": {},
   "source": [
    "# Day 2 - Introduction to Python\n",
    "## What are Jupyter Notebooks\n",
    "\n",
    "A web-based, interactive computing tool for capturing the whole computation process: developing, documenting, and executing code, as well as communicating the results.\n",
    "- Ctrl-Enter: run cell in-place\n",
    "- Shift-Enter: run cell\n",
    "- Alt-Enter: run cell, insert below"
   ]
  },
  {
   "cell_type": "code",
   "execution_count": 22,
   "metadata": {},
   "outputs": [
    {
     "name": "stdout",
     "output_type": "stream",
     "text": [
      "Hello World!\n"
     ]
    }
   ],
   "source": [
    "print(\"Hello World!\")"
   ]
  },
  {
   "cell_type": "code",
   "execution_count": 26,
   "metadata": {},
   "outputs": [
    {
     "name": "stdout",
     "output_type": "stream",
     "text": [
      "5\n",
      "2\n"
     ]
    }
   ],
   "source": [
    "# Here I am printing\n",
    "print(5)\n",
    "print(1+1)"
   ]
  },
  {
   "cell_type": "markdown",
   "metadata": {},
   "source": [
    "## Variables\n",
    "When declaring a variable, capitalization is important!"
   ]
  },
  {
   "cell_type": "code",
   "execution_count": 3,
   "metadata": {},
   "outputs": [
    {
     "name": "stdout",
     "output_type": "stream",
     "text": [
      "5\n",
      "2\n",
      "This is a string\n"
     ]
    }
   ],
   "source": [
    "Five = 5\n",
    "one = 1\n",
    "twodot = 2.0\n",
    "print (Five)\n",
    "print (one + one)\n",
    "message = \"This is a string\"\n",
    "print (message)"
   ]
  },
  {
   "cell_type": "code",
   "execution_count": 4,
   "metadata": {},
   "outputs": [
    {
     "name": "stdout",
     "output_type": "stream",
     "text": [
      "<class 'int'>\n"
     ]
    }
   ],
   "source": [
    "print (type(one))"
   ]
  },
  {
   "cell_type": "code",
   "execution_count": 5,
   "metadata": {},
   "outputs": [
    {
     "name": "stdout",
     "output_type": "stream",
     "text": [
      "<class 'float'>\n"
     ]
    }
   ],
   "source": [
    "print (type(twodot))"
   ]
  },
  {
   "cell_type": "code",
   "execution_count": 6,
   "metadata": {},
   "outputs": [
    {
     "name": "stdout",
     "output_type": "stream",
     "text": [
      "helloworld\n",
      "numbernumbernumbernumbernumber\n"
     ]
    }
   ],
   "source": [
    "print(\"hello\" + \"world\")\n",
    "print(\"number\" * 5)"
   ]
  },
  {
   "cell_type": "code",
   "execution_count": 7,
   "metadata": {},
   "outputs": [
    {
     "name": "stdout",
     "output_type": "stream",
     "text": [
      "some1\n"
     ]
    }
   ],
   "source": [
    "print(\"some\" + str(1))"
   ]
  },
  {
   "cell_type": "code",
   "execution_count": 8,
   "metadata": {},
   "outputs": [
    {
     "name": "stdout",
     "output_type": "stream",
     "text": [
      "2021\n"
     ]
    }
   ],
   "source": [
    "year=\"2020\"\n",
    "print(int(year)+1)"
   ]
  },
  {
   "cell_type": "markdown",
   "metadata": {},
   "source": [
    "## Arithmetic Operations\n",
    "\n",
    "Addition +\n",
    "\n",
    "Subtraction -\n",
    "\n",
    "Division /\n",
    "\n",
    "Modulo %\n",
    "\n",
    "Multiplication *\n",
    "\n",
    "Floor division //\n",
    "\n",
    "The power of **"
   ]
  },
  {
   "cell_type": "code",
   "execution_count": 9,
   "metadata": {},
   "outputs": [
    {
     "name": "stdout",
     "output_type": "stream",
     "text": [
      "1\n",
      "2.5\n",
      "2\n",
      "8\n"
     ]
    }
   ],
   "source": [
    "print(5%2)\n",
    "print(5/2)\n",
    "print(5//2)\n",
    "print(2**3)"
   ]
  },
  {
   "cell_type": "markdown",
   "metadata": {},
   "source": [
    "## Reading from the Keyboard"
   ]
  },
  {
   "cell_type": "code",
   "execution_count": 10,
   "metadata": {},
   "outputs": [
    {
     "name": "stdout",
     "output_type": "stream",
     "text": [
      "Please enter a number: 22\n"
     ]
    }
   ],
   "source": [
    "numIn = input(\"Please enter a number: \")"
   ]
  },
  {
   "cell_type": "code",
   "execution_count": 11,
   "metadata": {},
   "outputs": [
    {
     "name": "stdout",
     "output_type": "stream",
     "text": [
      "The number that you wrote was :  22\n"
     ]
    },
    {
     "ename": "TypeError",
     "evalue": "%d format: a number is required, not str",
     "output_type": "error",
     "traceback": [
      "\u001b[0;31m---------------------------------------------------------------------------\u001b[0m",
      "\u001b[0;31mTypeError\u001b[0m                                 Traceback (most recent call last)",
      "\u001b[0;32m<ipython-input-11-78b961ea7f36>\u001b[0m in \u001b[0;36m<module>\u001b[0;34m\u001b[0m\n\u001b[1;32m      1\u001b[0m \u001b[0mprint\u001b[0m \u001b[0;34m(\u001b[0m\u001b[0;34m\"The number that you wrote was : \"\u001b[0m\u001b[0;34m,\u001b[0m \u001b[0mnumIn\u001b[0m\u001b[0;34m)\u001b[0m\u001b[0;34m\u001b[0m\u001b[0;34m\u001b[0m\u001b[0m\n\u001b[0;32m----> 2\u001b[0;31m \u001b[0mprint\u001b[0m \u001b[0;34m(\u001b[0m\u001b[0;34m\"The number that you wrote was : %d\"\u001b[0m \u001b[0;34m%\u001b[0m \u001b[0mnumIn\u001b[0m\u001b[0;34m)\u001b[0m\u001b[0;34m\u001b[0m\u001b[0;34m\u001b[0m\u001b[0m\n\u001b[0m",
      "\u001b[0;31mTypeError\u001b[0m: %d format: a number is required, not str"
     ]
    }
   ],
   "source": [
    "print (\"The number that you wrote was : \", numIn)\n",
    "print (\"The number that you wrote was : %d\" % numIn)"
   ]
  },
  {
   "cell_type": "code",
   "execution_count": 12,
   "metadata": {},
   "outputs": [
    {
     "name": "stdout",
     "output_type": "stream",
     "text": [
      "Please enter your name: Ernesto\n",
      "Hello Ernesto, you entered the number 22\n"
     ]
    }
   ],
   "source": [
    "nameIn = input(\"Please enter your name: \")\n",
    "print (\"Hello %s, you entered the number %s\" % (nameIn,numIn))"
   ]
  },
  {
   "cell_type": "markdown",
   "metadata": {},
   "source": [
    "## Writing and Reading Files\n",
    "When opening a file, you need to decide “how” you want to open it: Just read? Are you going to write to the file? If the file already exists, what do you want to do with it?\n",
    "\n",
    "- r: read only (default)\n",
    "- w: write mode, file will be overwritten if it already exists\n",
    "- a: append mode, data will be appended to the existing file"
   ]
  },
  {
   "cell_type": "code",
   "execution_count": 13,
   "metadata": {},
   "outputs": [],
   "source": [
    "my_file = open(\"output_file.txt\",'w')\n",
    "var1 = \"This is a string\\n\"\n",
    "my_file.write(var1)\n",
    "var2 = 10\n",
    "my_file.write(\"\\n\")\n",
    "my_file.write(str(var2))\n",
    "var3 = 20.0\n",
    "my_file.write(\"\\n\")\n",
    "my_file.write(str(var3))\n",
    "my_file.close()"
   ]
  },
  {
   "cell_type": "code",
   "execution_count": 14,
   "metadata": {},
   "outputs": [
    {
     "name": "stdout",
     "output_type": "stream",
     "text": [
      "This is a string\n",
      "\n",
      "10\n",
      "20.0\n"
     ]
    }
   ],
   "source": [
    "my_file = open(\"output_file.txt\",'r')\n",
    "content = my_file.read()\n",
    "print(content)\n",
    "my_file.close()"
   ]
  },
  {
   "cell_type": "code",
   "execution_count": 15,
   "metadata": {},
   "outputs": [
    {
     "name": "stdout",
     "output_type": "stream",
     "text": [
      "String:  This is a string\n",
      "\n",
      "Blank:  \n",
      "\n",
      "Integer:  10\n",
      "\n",
      "Float:  20.0\n"
     ]
    }
   ],
   "source": [
    "my_file = open(\"output_file.txt\",'r')\n",
    "var1 = my_file.readline()\n",
    "var2 = my_file.readline()\n",
    "var3 = my_file.readline()\n",
    "var4 = my_file.readline()\n",
    "print(\"String: \", var1)\n",
    "print(\"Blank: \", var2)\n",
    "print(\"Integer: \", var3)\n",
    "print(\"Float: \", var4)\n",
    "my_file.close()"
   ]
  },
  {
   "cell_type": "markdown",
   "metadata": {},
   "source": [
    "## if/else/elif\n",
    "Indentation matters!"
   ]
  },
  {
   "cell_type": "code",
   "execution_count": 16,
   "metadata": {},
   "outputs": [
    {
     "name": "stdout",
     "output_type": "stream",
     "text": [
      "Is a bigger than b? False\n",
      "Is a smaller than b? True\n",
      "Is a equal to b? False\n",
      "Is a different from b? True\n",
      "Is a different from b or bigger than b? True\n",
      "Is a different from b and bigger than b? False\n"
     ]
    }
   ],
   "source": [
    "a=2\n",
    "b=5\n",
    "print(\"Is a bigger than b?\", a>b)\n",
    "print(\"Is a smaller than b?\", a<b)\n",
    "print(\"Is a equal to b?\", a == b)\n",
    "print(\"Is a different from b?\", a != b)\n",
    "print(\"Is a different from b or bigger than b?\", a != b or a>b)\n",
    "print(\"Is a different from b and bigger than b?\", a != b and a>b)"
   ]
  },
  {
   "cell_type": "code",
   "execution_count": 17,
   "metadata": {},
   "outputs": [
    {
     "name": "stdout",
     "output_type": "stream",
     "text": [
      "a is smaller than b\n"
     ]
    }
   ],
   "source": [
    "if a>b:\n",
    "    print(\"a is bigger than b\")\n",
    "elif a<b:\n",
    "    print(\"a is smaller than b\")\n",
    "else:\n",
    "    print(\"a is equal to b\")"
   ]
  },
  {
   "cell_type": "code",
   "execution_count": 27,
   "metadata": {},
   "outputs": [
    {
     "name": "stdout",
     "output_type": "stream",
     "text": [
      "a is smaller than b\n",
      "a is positive\n"
     ]
    }
   ],
   "source": [
    "if a>b:\n",
    "    print(\"a is bigger than b\")\n",
    "elif a<b:\n",
    "    print(\"a is smaller than b\")\n",
    "    if a>0:\n",
    "        print(\"a is positive\")\n",
    "else:\n",
    "    print(\"a is equal to b\")"
   ]
  },
  {
   "cell_type": "markdown",
   "metadata": {},
   "source": [
    "## Loops\n",
    "Indentation is IMPORTANT!"
   ]
  },
  {
   "cell_type": "code",
   "execution_count": 28,
   "metadata": {},
   "outputs": [
    {
     "name": "stdout",
     "output_type": "stream",
     "text": [
      "x = 0\n",
      "x = 1\n",
      "x = 2\n"
     ]
    }
   ],
   "source": [
    "for x in range(0,3):\n",
    "    print(\"x = %d\" % x)"
   ]
  },
  {
   "cell_type": "code",
   "execution_count": 29,
   "metadata": {},
   "outputs": [
    {
     "name": "stdout",
     "output_type": "stream",
     "text": [
      "(x,y) = (0,0)\n",
      "(x,y) = (0,1)\n",
      "(x,y) = (0,2)\n",
      "(x,y) = (1,0)\n",
      "(x,y) = (1,1)\n",
      "(x,y) = (1,2)\n",
      "(x,y) = (2,0)\n",
      "(x,y) = (2,1)\n",
      "(x,y) = (2,2)\n"
     ]
    }
   ],
   "source": [
    "for x in range(0,3):\n",
    "    for y in range(0,3):\n",
    "        print(\"(x,y) = (%d,%d)\" % (x,y))"
   ]
  },
  {
   "cell_type": "code",
   "execution_count": 31,
   "metadata": {},
   "outputs": [
    {
     "name": "stdout",
     "output_type": "stream",
     "text": [
      "0\n",
      "1\n",
      "2\n",
      "3\n",
      "4\n",
      "5\n",
      "6\n",
      "7\n",
      "8\n",
      "9\n"
     ]
    }
   ],
   "source": [
    "i = 0\n",
    "while(i < 10):\n",
    "    print(i)\n",
    "    i = i+1"
   ]
  },
  {
   "cell_type": "markdown",
   "metadata": {},
   "source": [
    "## Lists"
   ]
  },
  {
   "cell_type": "code",
   "execution_count": 33,
   "metadata": {},
   "outputs": [
    {
     "name": "stdout",
     "output_type": "stream",
     "text": [
      "first item second item\n",
      "1\n",
      "['first', 'second', 3]\n",
      "<class 'str'>\n",
      "<class 'int'>\n"
     ]
    }
   ],
   "source": [
    "mylist1 = [\"first item\", \"second item\"]\n",
    "mylist2 = [1, 2, 3, 4]\n",
    "mylist3 = [\"first\", \"second\", 3]\n",
    "print(mylist1[0], mylist1[1])\n",
    "print(mylist2[0])\n",
    "print(mylist3)\n",
    "print(type(mylist3[0]))\n",
    "print(type(mylist3[2]))"
   ]
  },
  {
   "cell_type": "code",
   "execution_count": 38,
   "metadata": {},
   "outputs": [
    {
     "name": "stdout",
     "output_type": "stream",
     "text": [
      "first\n",
      "2.0\n",
      "3\n",
      "LNCC\n"
     ]
    }
   ],
   "source": [
    "mylist3[1]=2.0\n",
    "mylist3.append(\"LNCC\")\n",
    "for item in mylist3:\n",
    "    print(item)"
   ]
  },
  {
   "cell_type": "code",
   "execution_count": 35,
   "metadata": {},
   "outputs": [
    {
     "name": "stdout",
     "output_type": "stream",
     "text": [
      "Is 3 in mylist3? True\n"
     ]
    }
   ],
   "source": [
    "print(\"Is 3 in mylist3?\", 3 in mylist3)"
   ]
  },
  {
   "cell_type": "markdown",
   "metadata": {},
   "source": [
    "## Tuple\n",
    "A tuple is a collection which is ordered and unchangeable"
   ]
  },
  {
   "cell_type": "code",
   "execution_count": 36,
   "metadata": {},
   "outputs": [
    {
     "name": "stdout",
     "output_type": "stream",
     "text": [
      "apple\n",
      "banana\n",
      "3\n"
     ]
    }
   ],
   "source": [
    "mytuple = (\"apple\", \"banana\", 3)\n",
    "for item in mytuple:\n",
    "    print(item)"
   ]
  },
  {
   "cell_type": "code",
   "execution_count": 39,
   "metadata": {},
   "outputs": [
    {
     "ename": "TypeError",
     "evalue": "'tuple' object does not support item assignment",
     "output_type": "error",
     "traceback": [
      "\u001b[0;31m---------------------------------------------------------------------------\u001b[0m",
      "\u001b[0;31mTypeError\u001b[0m                                 Traceback (most recent call last)",
      "\u001b[0;32m<ipython-input-39-addc266fdc5c>\u001b[0m in \u001b[0;36m<module>\u001b[0;34m\u001b[0m\n\u001b[0;32m----> 1\u001b[0;31m \u001b[0mmytuple\u001b[0m\u001b[0;34m[\u001b[0m\u001b[0;36m1\u001b[0m\u001b[0;34m]\u001b[0m\u001b[0;34m=\u001b[0m\u001b[0;36m3\u001b[0m\u001b[0;34m\u001b[0m\u001b[0;34m\u001b[0m\u001b[0m\n\u001b[0m",
      "\u001b[0;31mTypeError\u001b[0m: 'tuple' object does not support item assignment"
     ]
    }
   ],
   "source": [
    "mytuple[1]=3"
   ]
  },
  {
   "cell_type": "markdown",
   "metadata": {},
   "source": [
    "## User defined functions\n",
    "User-defined functions are reusable code blocks; they only need to be written once, then they can be used multiple times."
   ]
  },
  {
   "cell_type": "code",
   "execution_count": null,
   "metadata": {},
   "outputs": [],
   "source": [
    "def addNumbers(n1,n2,n3):\n",
    "    sum123 = n1+n2+n3\n",
    "    return sum123"
   ]
  },
  {
   "cell_type": "code",
   "execution_count": 40,
   "metadata": {},
   "outputs": [
    {
     "ename": "NameError",
     "evalue": "name 'addNumbers' is not defined",
     "output_type": "error",
     "traceback": [
      "\u001b[0;31m---------------------------------------------------------------------------\u001b[0m",
      "\u001b[0;31mNameError\u001b[0m                                 Traceback (most recent call last)",
      "\u001b[0;32m<ipython-input-40-a29127e62f5a>\u001b[0m in \u001b[0;36m<module>\u001b[0;34m\u001b[0m\n\u001b[0;32m----> 1\u001b[0;31m \u001b[0mtotal\u001b[0m\u001b[0;34m=\u001b[0m\u001b[0maddNumbers\u001b[0m\u001b[0;34m(\u001b[0m\u001b[0;36m2\u001b[0m\u001b[0;34m,\u001b[0m\u001b[0;36m4\u001b[0m\u001b[0;34m,\u001b[0m\u001b[0;36m5\u001b[0m\u001b[0;34m)\u001b[0m\u001b[0;34m\u001b[0m\u001b[0;34m\u001b[0m\u001b[0m\n\u001b[0m\u001b[1;32m      2\u001b[0m \u001b[0mprint\u001b[0m\u001b[0;34m(\u001b[0m\u001b[0mtotal\u001b[0m\u001b[0;34m)\u001b[0m\u001b[0;34m\u001b[0m\u001b[0;34m\u001b[0m\u001b[0m\n",
      "\u001b[0;31mNameError\u001b[0m: name 'addNumbers' is not defined"
     ]
    }
   ],
   "source": [
    "total=addNumbers(2,4,5)\n",
    "print(total)"
   ]
  },
  {
   "cell_type": "markdown",
   "metadata": {},
   "source": [
    "## Anonymous Functions"
   ]
  },
  {
   "cell_type": "code",
   "execution_count": null,
   "metadata": {},
   "outputs": [],
   "source": [
    "x = lambda a: a*10\n",
    "print(x(10))"
   ]
  },
  {
   "cell_type": "code",
   "execution_count": null,
   "metadata": {},
   "outputs": [],
   "source": [
    "def myfunc(x):\n",
    "    return lambda a: a*x"
   ]
  },
  {
   "cell_type": "code",
   "execution_count": null,
   "metadata": {},
   "outputs": [],
   "source": [
    "y=myfunc(10)\n",
    "print(y(5))"
   ]
  },
  {
   "cell_type": "code",
   "execution_count": null,
   "metadata": {},
   "outputs": [],
   "source": [
    "z=myfunc(100)\n",
    "print(z(5))"
   ]
  },
  {
   "cell_type": "markdown",
   "metadata": {},
   "source": [
    "## Defining the model\n",
    "Let N be the number of tumor cells and assume that this number can increase with a growth rate of $g$ cells/hour until it reaches the environmental carrying capacity of $K$ cells. With these assumptions, the mathematical models is:\n",
    "\\begin{equation}\n",
    "\\frac{dN}{dt}=gN\\left(1-\\frac{N}{K}\\right),\n",
    "\\end{equation}\n",
    "\n",
    "- $\\boldsymbol{\\theta}$: vector of model parameters, $\\boldsymbol{\\theta}=(g,K)$;\n",
    "- $g$: tumor growth rate;\n",
    "- $K$: environmental carrying capacity;\n",
    "- $\\boldsymbol{Y}(\\boldsymbol{\\theta})$: model prediction;"
   ]
  },
  {
   "cell_type": "code",
   "execution_count": 41,
   "metadata": {},
   "outputs": [],
   "source": [
    "# Let y be the vector of outputs, t the time, and theta the vector of parameters\n",
    "def control_tumor(y, t, theta):\n",
    "    return theta[0] * y[0] * (1.0 - y[0] / theta[1])"
   ]
  },
  {
   "cell_type": "code",
   "execution_count": 48,
   "metadata": {},
   "outputs": [
    {
     "data": {
      "image/png": "[encoded data removed]",
      "text/plain": [
       "<Figure size 720x480 with 1 Axes>"
      ]
     },
     "metadata": {
      "needs_background": "light"
     },
     "output_type": "display_data"
    }
   ],
   "source": [
    "import numpy as np\n",
    "# Define time interval, parameter value, and initial condition\n",
    "times = np.arange(0,50,0.5)\n",
    "true_growth, true_ic, true_carry = 0.25, 1, 60\n",
    "# Solving the ODE model\n",
    "from scipy.integrate import odeint\n",
    "y = odeint(control_tumor, t=times, y0=true_ic, args=tuple([[true_growth,true_carry]]))\n",
    "# Plotting the solution\n",
    "import matplotlib.pyplot as plt\n",
    "fig, ax = plt.subplots(dpi=120)\n",
    "plt.plot(times, y, label='Model solution', color='red',linewidth=2.0)\n",
    "plt.legend(loc='lower right')\n",
    "plt.xticks(range(0, 49, 6))\n",
    "plt.yticks(range(0, 71, 10))\n",
    "plt.xlabel('Time (hours)')\n",
    "plt.ylabel('Cell number');\n",
    "#plt.savefig(\"just_data.pdf\")\n",
    "plt.show()"
   ]
  },
  {
   "cell_type": "code",
   "execution_count": null,
   "metadata": {},
   "outputs": [],
   "source": []
  }
 ],
 "metadata": {
  "kernelspec": {
   "display_name": "Python 3",
   "language": "python",
   "name": "python3"
  },
  "language_info": {
   "codemirror_mode": {
    "name": "ipython",
    "version": 3
   },
   "file_extension": ".py",
   "mimetype": "text/x-python",
   "name": "python",
   "nbconvert_exporter": "python",
   "pygments_lexer": "ipython3",
   "version": "3.8.5"
  }
 },
 "nbformat": 4,
 "nbformat_minor": 4
}
